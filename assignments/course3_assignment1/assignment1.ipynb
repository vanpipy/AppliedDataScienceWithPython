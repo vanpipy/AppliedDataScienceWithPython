{
 "cells": [
  {
   "cell_type": "markdown",
   "metadata": {
    "deletable": false,
    "editable": false,
    "nbgrader": {
     "cell_type": "markdown",
     "checksum": "f3a04b67f89399433b0541d03f8be2e3",
     "grade": false,
     "grade_id": "cell-65747df3c6245b2c",
     "locked": true,
     "schema_version": 3,
     "solution": false,
     "task": false
    }
   },
   "source": [
    "---\n",
    "\n",
    "_You are currently looking at **version 0.1** of this notebook. To download notebooks and datafiles, as well as get help on Jupyter notebooks in the Coursera platform, visit the Jupyter Notebook FAQ course resource._\n",
    "\n",
    "---"
   ]
  },
  {
   "cell_type": "markdown",
   "metadata": {
    "deletable": false,
    "editable": false,
    "nbgrader": {
     "cell_type": "markdown",
     "checksum": "c4f9948171656badb51a386c46cf47b6",
     "grade": false,
     "grade_id": "cell-7feb82402c6b9b03",
     "locked": true,
     "schema_version": 3,
     "solution": false,
     "task": false
    }
   },
   "source": [
    "# Assignment 1 - Introduction to Machine Learning\n",
    "\n",
    "For this assignment, you will be using the Breast Cancer Wisconsin (Diagnostic) Database to create a classifier that can help diagnose patients. First, read through the description of the dataset (below)."
   ]
  },
  {
   "cell_type": "code",
   "execution_count": 80,
   "metadata": {
    "deletable": false,
    "editable": false,
    "nbgrader": {
     "cell_type": "code",
     "checksum": "08d6050968940b6cc77d5ebd169dd0a2",
     "grade": false,
     "grade_id": "cell-a29ffda2dfe21c88",
     "locked": true,
     "schema_version": 3,
     "solution": false,
     "task": false
    }
   },
   "outputs": [
    {
     "data": {
      "text/plain": [
       "{'data':      mean radius  mean texture  mean perimeter  mean area  mean smoothness  \\\n",
       " 0          17.99         10.38          122.80     1001.0          0.11840   \n",
       " 1          20.57         17.77          132.90     1326.0          0.08474   \n",
       " 2          19.69         21.25          130.00     1203.0          0.10960   \n",
       " 3          11.42         20.38           77.58      386.1          0.14250   \n",
       " 4          20.29         14.34          135.10     1297.0          0.10030   \n",
       " ..           ...           ...             ...        ...              ...   \n",
       " 564        21.56         22.39          142.00     1479.0          0.11100   \n",
       " 565        20.13         28.25          131.20     1261.0          0.09780   \n",
       " 566        16.60         28.08          108.30      858.1          0.08455   \n",
       " 567        20.60         29.33          140.10     1265.0          0.11780   \n",
       " 568         7.76         24.54           47.92      181.0          0.05263   \n",
       " \n",
       "      mean compactness  mean concavity  mean concave points  mean symmetry  \\\n",
       " 0             0.27760         0.30010              0.14710         0.2419   \n",
       " 1             0.07864         0.08690              0.07017         0.1812   \n",
       " 2             0.15990         0.19740              0.12790         0.2069   \n",
       " 3             0.28390         0.24140              0.10520         0.2597   \n",
       " 4             0.13280         0.19800              0.10430         0.1809   \n",
       " ..                ...             ...                  ...            ...   \n",
       " 564           0.11590         0.24390              0.13890         0.1726   \n",
       " 565           0.10340         0.14400              0.09791         0.1752   \n",
       " 566           0.10230         0.09251              0.05302         0.1590   \n",
       " 567           0.27700         0.35140              0.15200         0.2397   \n",
       " 568           0.04362         0.00000              0.00000         0.1587   \n",
       " \n",
       "      mean fractal dimension  ...  worst radius  worst texture  \\\n",
       " 0                   0.07871  ...        25.380          17.33   \n",
       " 1                   0.05667  ...        24.990          23.41   \n",
       " 2                   0.05999  ...        23.570          25.53   \n",
       " 3                   0.09744  ...        14.910          26.50   \n",
       " 4                   0.05883  ...        22.540          16.67   \n",
       " ..                      ...  ...           ...            ...   \n",
       " 564                 0.05623  ...        25.450          26.40   \n",
       " 565                 0.05533  ...        23.690          38.25   \n",
       " 566                 0.05648  ...        18.980          34.12   \n",
       " 567                 0.07016  ...        25.740          39.42   \n",
       " 568                 0.05884  ...         9.456          30.37   \n",
       " \n",
       "      worst perimeter  worst area  worst smoothness  worst compactness  \\\n",
       " 0             184.60      2019.0           0.16220            0.66560   \n",
       " 1             158.80      1956.0           0.12380            0.18660   \n",
       " 2             152.50      1709.0           0.14440            0.42450   \n",
       " 3              98.87       567.7           0.20980            0.86630   \n",
       " 4             152.20      1575.0           0.13740            0.20500   \n",
       " ..               ...         ...               ...                ...   \n",
       " 564           166.10      2027.0           0.14100            0.21130   \n",
       " 565           155.00      1731.0           0.11660            0.19220   \n",
       " 566           126.70      1124.0           0.11390            0.30940   \n",
       " 567           184.60      1821.0           0.16500            0.86810   \n",
       " 568            59.16       268.6           0.08996            0.06444   \n",
       " \n",
       "      worst concavity  worst concave points  worst symmetry  \\\n",
       " 0             0.7119                0.2654          0.4601   \n",
       " 1             0.2416                0.1860          0.2750   \n",
       " 2             0.4504                0.2430          0.3613   \n",
       " 3             0.6869                0.2575          0.6638   \n",
       " 4             0.4000                0.1625          0.2364   \n",
       " ..               ...                   ...             ...   \n",
       " 564           0.4107                0.2216          0.2060   \n",
       " 565           0.3215                0.1628          0.2572   \n",
       " 566           0.3403                0.1418          0.2218   \n",
       " 567           0.9387                0.2650          0.4087   \n",
       " 568           0.0000                0.0000          0.2871   \n",
       " \n",
       "      worst fractal dimension  \n",
       " 0                    0.11890  \n",
       " 1                    0.08902  \n",
       " 2                    0.08758  \n",
       " 3                    0.17300  \n",
       " 4                    0.07678  \n",
       " ..                       ...  \n",
       " 564                  0.07115  \n",
       " 565                  0.06637  \n",
       " 566                  0.07820  \n",
       " 567                  0.12400  \n",
       " 568                  0.07039  \n",
       " \n",
       " [569 rows x 30 columns],\n",
       " 'target': 0      0\n",
       " 1      0\n",
       " 2      0\n",
       " 3      0\n",
       " 4      0\n",
       "       ..\n",
       " 564    0\n",
       " 565    0\n",
       " 566    0\n",
       " 567    0\n",
       " 568    1\n",
       " Name: target, Length: 569, dtype: int64,\n",
       " 'frame':      mean radius  mean texture  mean perimeter  mean area  mean smoothness  \\\n",
       " 0          17.99         10.38          122.80     1001.0          0.11840   \n",
       " 1          20.57         17.77          132.90     1326.0          0.08474   \n",
       " 2          19.69         21.25          130.00     1203.0          0.10960   \n",
       " 3          11.42         20.38           77.58      386.1          0.14250   \n",
       " 4          20.29         14.34          135.10     1297.0          0.10030   \n",
       " ..           ...           ...             ...        ...              ...   \n",
       " 564        21.56         22.39          142.00     1479.0          0.11100   \n",
       " 565        20.13         28.25          131.20     1261.0          0.09780   \n",
       " 566        16.60         28.08          108.30      858.1          0.08455   \n",
       " 567        20.60         29.33          140.10     1265.0          0.11780   \n",
       " 568         7.76         24.54           47.92      181.0          0.05263   \n",
       " \n",
       "      mean compactness  mean concavity  mean concave points  mean symmetry  \\\n",
       " 0             0.27760         0.30010              0.14710         0.2419   \n",
       " 1             0.07864         0.08690              0.07017         0.1812   \n",
       " 2             0.15990         0.19740              0.12790         0.2069   \n",
       " 3             0.28390         0.24140              0.10520         0.2597   \n",
       " 4             0.13280         0.19800              0.10430         0.1809   \n",
       " ..                ...             ...                  ...            ...   \n",
       " 564           0.11590         0.24390              0.13890         0.1726   \n",
       " 565           0.10340         0.14400              0.09791         0.1752   \n",
       " 566           0.10230         0.09251              0.05302         0.1590   \n",
       " 567           0.27700         0.35140              0.15200         0.2397   \n",
       " 568           0.04362         0.00000              0.00000         0.1587   \n",
       " \n",
       "      mean fractal dimension  ...  worst texture  worst perimeter  worst area  \\\n",
       " 0                   0.07871  ...          17.33           184.60      2019.0   \n",
       " 1                   0.05667  ...          23.41           158.80      1956.0   \n",
       " 2                   0.05999  ...          25.53           152.50      1709.0   \n",
       " 3                   0.09744  ...          26.50            98.87       567.7   \n",
       " 4                   0.05883  ...          16.67           152.20      1575.0   \n",
       " ..                      ...  ...            ...              ...         ...   \n",
       " 564                 0.05623  ...          26.40           166.10      2027.0   \n",
       " 565                 0.05533  ...          38.25           155.00      1731.0   \n",
       " 566                 0.05648  ...          34.12           126.70      1124.0   \n",
       " 567                 0.07016  ...          39.42           184.60      1821.0   \n",
       " 568                 0.05884  ...          30.37            59.16       268.6   \n",
       " \n",
       "      worst smoothness  worst compactness  worst concavity  \\\n",
       " 0             0.16220            0.66560           0.7119   \n",
       " 1             0.12380            0.18660           0.2416   \n",
       " 2             0.14440            0.42450           0.4504   \n",
       " 3             0.20980            0.86630           0.6869   \n",
       " 4             0.13740            0.20500           0.4000   \n",
       " ..                ...                ...              ...   \n",
       " 564           0.14100            0.21130           0.4107   \n",
       " 565           0.11660            0.19220           0.3215   \n",
       " 566           0.11390            0.30940           0.3403   \n",
       " 567           0.16500            0.86810           0.9387   \n",
       " 568           0.08996            0.06444           0.0000   \n",
       " \n",
       "      worst concave points  worst symmetry  worst fractal dimension  target  \n",
       " 0                  0.2654          0.4601                  0.11890       0  \n",
       " 1                  0.1860          0.2750                  0.08902       0  \n",
       " 2                  0.2430          0.3613                  0.08758       0  \n",
       " 3                  0.2575          0.6638                  0.17300       0  \n",
       " 4                  0.1625          0.2364                  0.07678       0  \n",
       " ..                    ...             ...                      ...     ...  \n",
       " 564                0.2216          0.2060                  0.07115       0  \n",
       " 565                0.1628          0.2572                  0.06637       0  \n",
       " 566                0.1418          0.2218                  0.07820       0  \n",
       " 567                0.2650          0.4087                  0.12400       0  \n",
       " 568                0.0000          0.2871                  0.07039       1  \n",
       " \n",
       " [569 rows x 31 columns],\n",
       " 'target_names': array(['malignant', 'benign'], dtype='<U9'),\n",
       " 'DESCR': '.. _breast_cancer_dataset:\\n\\nBreast cancer Wisconsin (diagnostic) dataset\\n--------------------------------------------\\n\\n**Data Set Characteristics:**\\n\\n:Number of Instances: 569\\n\\n:Number of Attributes: 30 numeric, predictive attributes and the class\\n\\n:Attribute Information:\\n    - radius (mean of distances from center to points on the perimeter)\\n    - texture (standard deviation of gray-scale values)\\n    - perimeter\\n    - area\\n    - smoothness (local variation in radius lengths)\\n    - compactness (perimeter^2 / area - 1.0)\\n    - concavity (severity of concave portions of the contour)\\n    - concave points (number of concave portions of the contour)\\n    - symmetry\\n    - fractal dimension (\"coastline approximation\" - 1)\\n\\n    The mean, standard error, and \"worst\" or largest (mean of the three\\n    worst/largest values) of these features were computed for each image,\\n    resulting in 30 features.  For instance, field 0 is Mean Radius, field\\n    10 is Radius SE, field 20 is Worst Radius.\\n\\n    - class:\\n            - WDBC-Malignant\\n            - WDBC-Benign\\n\\n:Summary Statistics:\\n\\n===================================== ====== ======\\n                                        Min    Max\\n===================================== ====== ======\\nradius (mean):                        6.981  28.11\\ntexture (mean):                       9.71   39.28\\nperimeter (mean):                     43.79  188.5\\narea (mean):                          143.5  2501.0\\nsmoothness (mean):                    0.053  0.163\\ncompactness (mean):                   0.019  0.345\\nconcavity (mean):                     0.0    0.427\\nconcave points (mean):                0.0    0.201\\nsymmetry (mean):                      0.106  0.304\\nfractal dimension (mean):             0.05   0.097\\nradius (standard error):              0.112  2.873\\ntexture (standard error):             0.36   4.885\\nperimeter (standard error):           0.757  21.98\\narea (standard error):                6.802  542.2\\nsmoothness (standard error):          0.002  0.031\\ncompactness (standard error):         0.002  0.135\\nconcavity (standard error):           0.0    0.396\\nconcave points (standard error):      0.0    0.053\\nsymmetry (standard error):            0.008  0.079\\nfractal dimension (standard error):   0.001  0.03\\nradius (worst):                       7.93   36.04\\ntexture (worst):                      12.02  49.54\\nperimeter (worst):                    50.41  251.2\\narea (worst):                         185.2  4254.0\\nsmoothness (worst):                   0.071  0.223\\ncompactness (worst):                  0.027  1.058\\nconcavity (worst):                    0.0    1.252\\nconcave points (worst):               0.0    0.291\\nsymmetry (worst):                     0.156  0.664\\nfractal dimension (worst):            0.055  0.208\\n===================================== ====== ======\\n\\n:Missing Attribute Values: None\\n\\n:Class Distribution: 212 - Malignant, 357 - Benign\\n\\n:Creator:  Dr. William H. Wolberg, W. Nick Street, Olvi L. Mangasarian\\n\\n:Donor: Nick Street\\n\\n:Date: November, 1995\\n\\nThis is a copy of UCI ML Breast Cancer Wisconsin (Diagnostic) datasets.\\nhttps://goo.gl/U2Uwz2\\n\\nFeatures are computed from a digitized image of a fine needle\\naspirate (FNA) of a breast mass.  They describe\\ncharacteristics of the cell nuclei present in the image.\\n\\nSeparating plane described above was obtained using\\nMultisurface Method-Tree (MSM-T) [K. P. Bennett, \"Decision Tree\\nConstruction Via Linear Programming.\" Proceedings of the 4th\\nMidwest Artificial Intelligence and Cognitive Science Society,\\npp. 97-101, 1992], a classification method which uses linear\\nprogramming to construct a decision tree.  Relevant features\\nwere selected using an exhaustive search in the space of 1-4\\nfeatures and 1-3 separating planes.\\n\\nThe actual linear program used to obtain the separating plane\\nin the 3-dimensional space is that described in:\\n[K. P. Bennett and O. L. Mangasarian: \"Robust Linear\\nProgramming Discrimination of Two Linearly Inseparable Sets\",\\nOptimization Methods and Software 1, 1992, 23-34].\\n\\nThis database is also available through the UW CS ftp server:\\n\\nftp ftp.cs.wisc.edu\\ncd math-prog/cpo-dataset/machine-learn/WDBC/\\n\\n.. dropdown:: References\\n\\n  - W.N. Street, W.H. Wolberg and O.L. Mangasarian. Nuclear feature extraction\\n    for breast tumor diagnosis. IS&T/SPIE 1993 International Symposium on\\n    Electronic Imaging: Science and Technology, volume 1905, pages 861-870,\\n    San Jose, CA, 1993.\\n  - O.L. Mangasarian, W.N. Street and W.H. Wolberg. Breast cancer diagnosis and\\n    prognosis via linear programming. Operations Research, 43(4), pages 570-577,\\n    July-August 1995.\\n  - W.H. Wolberg, W.N. Street, and O.L. Mangasarian. Machine learning techniques\\n    to diagnose breast cancer from fine-needle aspirates. Cancer Letters 77 (1994)\\n    163-171.\\n',\n",
       " 'feature_names': array(['mean radius', 'mean texture', 'mean perimeter', 'mean area',\n",
       "        'mean smoothness', 'mean compactness', 'mean concavity',\n",
       "        'mean concave points', 'mean symmetry', 'mean fractal dimension',\n",
       "        'radius error', 'texture error', 'perimeter error', 'area error',\n",
       "        'smoothness error', 'compactness error', 'concavity error',\n",
       "        'concave points error', 'symmetry error',\n",
       "        'fractal dimension error', 'worst radius', 'worst texture',\n",
       "        'worst perimeter', 'worst area', 'worst smoothness',\n",
       "        'worst compactness', 'worst concavity', 'worst concave points',\n",
       "        'worst symmetry', 'worst fractal dimension'], dtype='<U23'),\n",
       " 'filename': 'breast_cancer.csv',\n",
       " 'data_module': 'sklearn.datasets.data'}"
      ]
     },
     "execution_count": 80,
     "metadata": {},
     "output_type": "execute_result"
    }
   ],
   "source": [
    "import numpy as np\n",
    "import pandas as pd\n",
    "from sklearn.datasets import load_breast_cancer\n",
    "\n",
    "cancer = load_breast_cancer(as_frame=True)\n",
    "\n",
    "cancer"
   ]
  },
  {
   "cell_type": "markdown",
   "metadata": {
    "deletable": false,
    "editable": false,
    "nbgrader": {
     "cell_type": "markdown",
     "checksum": "7905d987b6c56b8731411f7af07c7abc",
     "grade": false,
     "grade_id": "cell-74d5f2dc70a1e5a2",
     "locked": true,
     "schema_version": 3,
     "solution": false,
     "task": false
    }
   },
   "source": [
    "The object returned by `load_breast_cancer()` is a scikit-learn Bunch object, which is similar to a dictionary."
   ]
  },
  {
   "cell_type": "code",
   "execution_count": 81,
   "metadata": {
    "deletable": false,
    "editable": false,
    "nbgrader": {
     "cell_type": "code",
     "checksum": "c3df4f494470ebf1c0c1c3ef9b18fc4c",
     "grade": false,
     "grade_id": "cell-9b947b4ddf5b392a",
     "locked": true,
     "schema_version": 3,
     "solution": false,
     "task": false
    }
   },
   "outputs": [
    {
     "data": {
      "text/plain": [
       "dict_keys(['data', 'target', 'frame', 'target_names', 'DESCR', 'feature_names', 'filename', 'data_module'])"
      ]
     },
     "execution_count": 81,
     "metadata": {},
     "output_type": "execute_result"
    }
   ],
   "source": [
    "cancer.keys()"
   ]
  },
  {
   "cell_type": "markdown",
   "metadata": {
    "deletable": false,
    "editable": false,
    "nbgrader": {
     "cell_type": "markdown",
     "checksum": "8b494c5aa1ae3f2168a95383bf374cae",
     "grade": false,
     "grade_id": "cell-0b08e35de159eb4f",
     "locked": true,
     "schema_version": 3,
     "solution": false,
     "task": false
    }
   },
   "source": [
    "### Question 0 (Example)\n",
    "\n",
    "How many features does the breast cancer dataset have?\n",
    "\n",
    "*This function should return an integer.*"
   ]
  },
  {
   "cell_type": "code",
   "execution_count": 82,
   "metadata": {
    "deletable": false,
    "nbgrader": {
     "cell_type": "code",
     "checksum": "055490cd0e299721890c9b2596857bc9",
     "grade": false,
     "grade_id": "cell-0084d28ec0751f46",
     "locked": false,
     "schema_version": 3,
     "solution": true,
     "task": false
    }
   },
   "outputs": [],
   "source": [
    "# You should write your whole answer within the function provided. The autograder will call\n",
    "# this function and compare the return value against the correct solution value\n",
    "def answer_zero():\n",
    "    # This function returns the number of features of the breast cancer dataset, which is an integer. \n",
    "    # The assignment question description will tell you the general format the autograder is expecting\n",
    "    \n",
    "    # YOUR CODE HERE\n",
    "    return len(cancer.feature_names)\n",
    "\n",
    "# You can examine what your function returns by calling it in the cell. If you have questions\n",
    "# about the assignment formats, check out the discussion forums for any FAQs"
   ]
  },
  {
   "cell_type": "code",
   "execution_count": null,
   "metadata": {
    "deletable": false,
    "editable": false,
    "nbgrader": {
     "cell_type": "code",
     "checksum": "241d8b281073d240023de6ed38c198c2",
     "grade": true,
     "grade_id": "cell-d2933751632e1611",
     "locked": true,
     "points": 1,
     "schema_version": 3,
     "solution": false,
     "task": false
    }
   },
   "outputs": [],
   "source": []
  },
  {
   "cell_type": "markdown",
   "metadata": {
    "deletable": false,
    "editable": false,
    "nbgrader": {
     "cell_type": "markdown",
     "checksum": "4913149d7778a25e9da500b0b448533f",
     "grade": false,
     "grade_id": "cell-d0c0f34a6f932a17",
     "locked": true,
     "schema_version": 3,
     "solution": false,
     "task": false
    }
   },
   "source": [
    "### Question 1\n",
    "\n",
    "Scikit-learn works with lists, numpy arrays, scipy-sparse matrices, and pandas DataFrames, so converting the dataset to a DataFrame is not necessary for training this model. Using a DataFrame does however help make many things easier such as munging data, so let's practice creating a classifier with a pandas DataFrame. \n",
    "\n",
    "\n",
    "\n",
    "Convert the sklearn.dataset `cancer` to a DataFrame. \n",
    "\n",
    "*This function should return a `(569, 31)` DataFrame with * \n",
    "\n",
    "*columns = *\n",
    "\n",
    "    ['mean radius', 'mean texture', 'mean perimeter', 'mean area',\n",
    "    'mean smoothness', 'mean compactness', 'mean concavity',\n",
    "    'mean concave points', 'mean symmetry', 'mean fractal dimension',\n",
    "    'radius error', 'texture error', 'perimeter error', 'area error',\n",
    "    'smoothness error', 'compactness error', 'concavity error',\n",
    "    'concave points error', 'symmetry error', 'fractal dimension error',\n",
    "    'worst radius', 'worst texture', 'worst perimeter', 'worst area',\n",
    "    'worst smoothness', 'worst compactness', 'worst concavity',\n",
    "    'worst concave points', 'worst symmetry', 'worst fractal dimension',\n",
    "    'target']\n",
    "\n",
    "*and index = *\n",
    "\n",
    "    RangeIndex(start=0, stop=569, step=1)"
   ]
  },
  {
   "cell_type": "code",
   "execution_count": 83,
   "metadata": {
    "deletable": false,
    "nbgrader": {
     "cell_type": "code",
     "checksum": "d229a72747414cccade940ae4fd98107",
     "grade": false,
     "grade_id": "cell-23a242567f6acefe",
     "locked": false,
     "schema_version": 3,
     "solution": true,
     "task": false
    }
   },
   "outputs": [],
   "source": [
    "def answer_one():\n",
    "    # YOUR CODE HERE\n",
    "    df = pd.DataFrame(cancer.data, columns=cancer.feature_names)\n",
    "    df['target'] = cancer.target\n",
    "    return df"
   ]
  },
  {
   "cell_type": "code",
   "execution_count": null,
   "metadata": {
    "deletable": false,
    "editable": false,
    "nbgrader": {
     "cell_type": "code",
     "checksum": "6cdf66c2c96da4d6abdd52b82acd8c96",
     "grade": true,
     "grade_id": "cell-2dea923f2da8db76",
     "locked": true,
     "points": 1,
     "schema_version": 3,
     "solution": false,
     "task": false
    }
   },
   "outputs": [],
   "source": []
  },
  {
   "cell_type": "markdown",
   "metadata": {
    "deletable": false,
    "editable": false,
    "nbgrader": {
     "cell_type": "markdown",
     "checksum": "b41f261501471d945afa6a23f6dffede",
     "grade": false,
     "grade_id": "cell-dc179325dbf4ab2e",
     "locked": true,
     "schema_version": 3,
     "solution": false,
     "task": false
    }
   },
   "source": [
    "### Question 2\n",
    "What is the class distribution? (i.e. how many instances of `malignant` and how many `benign`?)\n",
    "\n",
    "*This function should return a Series named `target` of length 2 with integer values and index =* `['malignant', 'benign']`"
   ]
  },
  {
   "cell_type": "code",
   "execution_count": 84,
   "metadata": {
    "deletable": false,
    "nbgrader": {
     "cell_type": "code",
     "checksum": "c2089305eba033875b33282231f3dd16",
     "grade": false,
     "grade_id": "cell-9ae22c5da36030e1",
     "locked": false,
     "schema_version": 3,
     "solution": true,
     "task": false
    }
   },
   "outputs": [],
   "source": [
    "def answer_two():\n",
    "    # YOUR CODE HERE\n",
    "    counts = cancer.target.value_counts()\n",
    "    return pd.Series([counts[0], counts[1]], index=['malignant', 'benign'], name='target')"
   ]
  },
  {
   "cell_type": "markdown",
   "metadata": {
    "deletable": false,
    "editable": false,
    "nbgrader": {
     "cell_type": "markdown",
     "checksum": "b2fe669eee7a55b67e303174078c56d1",
     "grade": false,
     "grade_id": "cell-31d45f5920fa2afc",
     "locked": true,
     "schema_version": 3,
     "solution": false,
     "task": false
    }
   },
   "source": [
    "### Question 3\n",
    "Split the DataFrame into `X` (the data) and `y` (the labels).\n",
    "\n",
    "*This function should return a tuple of length 2:* `(X, y)`*, where* \n",
    "* `X` *has shape* `(569, 30)`\n",
    "* `y` *has shape* `(569,)`."
   ]
  },
  {
   "cell_type": "code",
   "execution_count": 85,
   "metadata": {
    "deletable": false,
    "nbgrader": {
     "cell_type": "code",
     "checksum": "9d0ef7932e19d454dbad24890e828d37",
     "grade": false,
     "grade_id": "cell-576bc022552c817a",
     "locked": false,
     "schema_version": 3,
     "solution": true,
     "task": false
    }
   },
   "outputs": [],
   "source": [
    "def answer_three():\n",
    "    # YOUR CODE HERE\n",
    "    df = answer_one()\n",
    "    X = df.iloc[:,:-1]\n",
    "    y = df['target']\n",
    "    return (X, y)\n"
   ]
  },
  {
   "cell_type": "markdown",
   "metadata": {
    "deletable": false,
    "editable": false,
    "nbgrader": {
     "cell_type": "markdown",
     "checksum": "f8192b3b8e5cdf399a137f41d54d23c4",
     "grade": false,
     "grade_id": "cell-b0946cd43b59e983",
     "locked": true,
     "schema_version": 3,
     "solution": false,
     "task": false
    }
   },
   "source": [
    "### Question 4\n",
    "Using `train_test_split`, split `X` and `y` into training and test sets `(X_train, X_test, y_train, and y_test)`.\n",
    "\n",
    "**Set the random number generator state to 0 using `random_state=0` to make sure your results match the autograder!**\n",
    "\n",
    "*This function should return a tuple of length 4:* `(X_train, X_test, y_train, y_test)`*, where* \n",
    "* `X_train` *has shape* `(426, 30)`\n",
    "* `X_test` *has shape* `(143, 30)`\n",
    "* `y_train` *has shape* `(426,)`\n",
    "* `y_test` *has shape* `(143,)`"
   ]
  },
  {
   "cell_type": "code",
   "execution_count": 86,
   "metadata": {
    "deletable": false,
    "nbgrader": {
     "cell_type": "code",
     "checksum": "c4baef9efe130ec4b0c84be4f95e6f07",
     "grade": false,
     "grade_id": "cell-43f1772dae7c107d",
     "locked": false,
     "schema_version": 3,
     "solution": true,
     "task": false
    }
   },
   "outputs": [],
   "source": [
    "from sklearn.model_selection import train_test_split\n",
    "\n",
    "def answer_four():\n",
    "    # YOUR CODE HERE\n",
    "    X, y = answer_three()\n",
    "    X_train, X_test, y_train, y_test = train_test_split(X, y, random_state=0)\n",
    "    return (X_train, X_test, y_train, y_test)"
   ]
  },
  {
   "cell_type": "code",
   "execution_count": null,
   "metadata": {
    "deletable": false,
    "editable": false,
    "nbgrader": {
     "cell_type": "code",
     "checksum": "1324889763065877f8f39340de8e471f",
     "grade": true,
     "grade_id": "cell-725b24dae2118210",
     "locked": true,
     "points": 1,
     "schema_version": 3,
     "solution": false,
     "task": false
    }
   },
   "outputs": [],
   "source": []
  },
  {
   "cell_type": "markdown",
   "metadata": {
    "deletable": false,
    "editable": false,
    "nbgrader": {
     "cell_type": "markdown",
     "checksum": "e92abe372518db20cc11546459ee9ac3",
     "grade": false,
     "grade_id": "cell-ed8d5b39dd31e5a6",
     "locked": true,
     "schema_version": 3,
     "solution": false,
     "task": false
    }
   },
   "source": [
    "### Question 5\n",
    "Using KNeighborsClassifier, fit a k-nearest neighbors (knn) classifier with `X_train`, `y_train` and using one nearest neighbor (`n_neighbors = 1`).\n",
    "\n",
    "*This function should return a `sklearn.neighbors.classification.KNeighborsClassifier`."
   ]
  },
  {
   "cell_type": "code",
   "execution_count": 87,
   "metadata": {
    "deletable": false,
    "nbgrader": {
     "cell_type": "code",
     "checksum": "2e7d0640190d2a51a756508aa9578169",
     "grade": false,
     "grade_id": "cell-065b72353bfb0645",
     "locked": false,
     "schema_version": 3,
     "solution": true,
     "task": false
    }
   },
   "outputs": [],
   "source": [
    "from sklearn.neighbors import KNeighborsClassifier\n",
    "\n",
    "def answer_five():\n",
    "    # YOUR CODE HERE\n",
    "    X_train, X_test, y_train, y_test = answer_four()\n",
    "    knn = KNeighborsClassifier(n_neighbors=1)\n",
    "    knn.fit(X_train, y_train)\n",
    "    return knn"
   ]
  },
  {
   "cell_type": "markdown",
   "metadata": {
    "deletable": false,
    "editable": false,
    "nbgrader": {
     "cell_type": "markdown",
     "checksum": "28cf091cb9fc0b2a0f2d36014cc24a9b",
     "grade": false,
     "grade_id": "cell-f84a2487e43f1483",
     "locked": true,
     "schema_version": 3,
     "solution": false,
     "task": false
    }
   },
   "source": [
    "### Question 6\n",
    "Using your knn classifier, predict the class label using the mean value for each feature.\n",
    "\n",
    "Hint: You can use `cancerdf.mean()[:-1].values.reshape(1, -1)` which gets the mean value for each feature, ignores the target column, and reshapes the data from 1 dimension to 2 (necessary for the precict method of KNeighborsClassifier)."
   ]
  },
  {
   "cell_type": "code",
   "execution_count": 88,
   "metadata": {
    "deletable": false,
    "nbgrader": {
     "cell_type": "code",
     "checksum": "ff555e46091aa284862032d328fc7285",
     "grade": false,
     "grade_id": "cell-e275f6ba23d6ff8f",
     "locked": false,
     "schema_version": 3,
     "solution": true,
     "task": false
    }
   },
   "outputs": [],
   "source": [
    "def answer_six():\n",
    "    # YOUR CODE HERE\n",
    "    knn = answer_five()\n",
    "    cancerdf = answer_one()\n",
    "    mean_values = cancerdf.mean()[:-1].values.reshape(1, -1)\n",
    "    prediction = knn.predict(mean_values)\n",
    "    return prediction"
   ]
  },
  {
   "cell_type": "code",
   "execution_count": null,
   "metadata": {
    "deletable": false,
    "editable": false,
    "nbgrader": {
     "cell_type": "code",
     "checksum": "d2d4f188f760b94b131d16887c7d7cdf",
     "grade": true,
     "grade_id": "cell-7a6cc33489ff7e5c",
     "locked": true,
     "points": 1,
     "schema_version": 3,
     "solution": false,
     "task": false
    }
   },
   "outputs": [],
   "source": []
  },
  {
   "cell_type": "markdown",
   "metadata": {
    "deletable": false,
    "editable": false,
    "nbgrader": {
     "cell_type": "markdown",
     "checksum": "a3f12c45aaf92b9624ddb65abd368819",
     "grade": false,
     "grade_id": "cell-b8480632ad943bc8",
     "locked": true,
     "schema_version": 3,
     "solution": false,
     "task": false
    }
   },
   "source": [
    "### Question 7\n",
    "Using your knn classifier, predict the class labels for the test set `X_test`.\n",
    "\n",
    "*This function should return a numpy array with shape `(143,)` and values either `0.0` or `1.0`.*"
   ]
  },
  {
   "cell_type": "code",
   "execution_count": 89,
   "metadata": {
    "deletable": false,
    "nbgrader": {
     "cell_type": "code",
     "checksum": "e687968dd888ed2dac75220e95f772c3",
     "grade": false,
     "grade_id": "cell-4ba28b24e8b435dc",
     "locked": false,
     "schema_version": 3,
     "solution": true,
     "task": false
    }
   },
   "outputs": [],
   "source": [
    "def answer_seven():\n",
    "    # YOUR CODE HERE\n",
    "    knn = answer_five()\n",
    "    X_train, X_test, y_train, y_test = answer_four()\n",
    "    prediction = knn.predict(X_test)\n",
    "    return prediction"
   ]
  },
  {
   "cell_type": "markdown",
   "metadata": {
    "deletable": false,
    "editable": false,
    "nbgrader": {
     "cell_type": "markdown",
     "checksum": "e7b7bd46c2dbe22a76e9cfbd4868b31a",
     "grade": false,
     "grade_id": "cell-937577c0bbcb7259",
     "locked": true,
     "schema_version": 3,
     "solution": false,
     "task": false
    }
   },
   "source": [
    "### Question 8\n",
    "Find the score (mean accuracy) of your knn classifier using `X_test` and `y_test`.\n",
    "\n",
    "*This function should return a float between 0 and 1*"
   ]
  },
  {
   "cell_type": "code",
   "execution_count": 90,
   "metadata": {
    "deletable": false,
    "nbgrader": {
     "cell_type": "code",
     "checksum": "68b6223d9a01bf5cb55e58b9e2229bce",
     "grade": false,
     "grade_id": "cell-8a1c3907d66a1fd6",
     "locked": false,
     "schema_version": 3,
     "solution": true,
     "task": false
    }
   },
   "outputs": [],
   "source": [
    "def answer_eight():\n",
    "    # YOUR CODE HERE\n",
    "    knn = answer_five()\n",
    "    X_train, X_test, y_train, y_test = answer_four()\n",
    "    accuray = knn.score(X_test, y_test)\n",
    "    return accuray"
   ]
  },
  {
   "cell_type": "markdown",
   "metadata": {
    "deletable": false,
    "editable": false,
    "nbgrader": {
     "cell_type": "markdown",
     "checksum": "7b766df26e90124f43f5b997bdfe30a5",
     "grade": false,
     "grade_id": "cell-0a7e5b62ef8dbf5d",
     "locked": true,
     "schema_version": 3,
     "solution": false,
     "task": false
    }
   },
   "source": [
    "### Optional plot\n",
    "\n",
    "Try using the plotting function below to visualize the different predicition scores between train and test sets, as well as malignant and benign cells."
   ]
  },
  {
   "cell_type": "code",
   "execution_count": 93,
   "metadata": {
    "deletable": false,
    "nbgrader": {
     "cell_type": "code",
     "checksum": "93c96e5d94b1071b03c349246f041cd0",
     "grade": false,
     "grade_id": "cell-b22cfbb1a1fdcb51",
     "locked": false,
     "schema_version": 3,
     "solution": true,
     "task": false
    }
   },
   "outputs": [],
   "source": [
    "def accuracy_plot():\n",
    "    import matplotlib.pyplot as plt\n",
    "    import numpy as np\n",
    "    \n",
    "    %matplotlib widget\n",
    "    \n",
    "    knn = answer_five()\n",
    "    X_train, X_test, y_train, y_test = answer_four()\n",
    "    train_accuracy = knn.score(X_train, y_train)\n",
    "    test_accuracy = knn.score(X_test, y_test)\n",
    "    train_predictions = knn.predict(X_train)\n",
    "    test_predictions = knn.predict(X_test)\n",
    "    \n",
    "    train_malignant_mask = (y_train == 0)\n",
    "    train_benign_mask = (y_train == 1)\n",
    "    train_malignant_acc = (train_predictions[train_malignant_mask] == y_train[train_malignant_mask]).mean()\n",
    "    train_benign_acc = (train_predictions[train_benign_mask] == y_train[train_benign_mask]).mean()\n",
    "    \n",
    "    test_malignant_mask = (y_test == 0)\n",
    "    test_benign_mask = (y_test == 1)\n",
    "    test_malignant_acc = (test_predictions[test_malignant_mask] == y_test[test_malignant_mask]).mean()\n",
    "    test_benign_acc = (test_predictions[test_benign_mask] == y_test[test_benign_mask]).mean()\n",
    "    \n",
    "    fig, (ax1, ax2) = plt.subplots(1, 2, figsize=(8, 4))\n",
    "    \n",
    "    categories = ['Training', 'Test']\n",
    "    accuracies = [train_accuracy, test_accuracy]\n",
    "    ax1.bar(categories, accuracies, color=['skyblue', 'lightcoral'])\n",
    "    ax1.set_ylabel('Accuracy')\n",
    "    ax1.set_title('Overall Accuracy: Training vs Test')\n",
    "    ax1.set_ylim(0, 1)\n",
    "    for i, v in enumerate(accuracies):\n",
    "        ax1.text(i, v + 0.01, f'{v:.3f}', ha='center')\n",
    "    \n",
    "    x = np.arange(2)\n",
    "    width = 0.2\n",
    "    \n",
    "    malignant_accs = [train_malignant_acc, test_malignant_acc]\n",
    "    benign_accs = [train_benign_acc, test_benign_acc]\n",
    "    \n",
    "    ax2.bar(x - width/2, malignant_accs, width, label='Malignant', color='red', alpha=0.7)\n",
    "    ax2.bar(x + width/2, benign_accs, width, label='Benign', color='green', alpha=0.7)\n",
    "    \n",
    "    ax2.set_ylabel('Accuracy')\n",
    "    ax2.set_title('Class-specific Accuracy: Malignant vs Benign')\n",
    "    ax2.set_xticks(x)\n",
    "    ax2.set_xticklabels(['Training', 'Test'])\n",
    "    ax2.legend()\n",
    "    ax2.set_ylim(0, 1)\n",
    "    \n",
    "    plt.tight_layout()\n",
    "    plt.show()"
   ]
  },
  {
   "cell_type": "code",
   "execution_count": 94,
   "metadata": {},
   "outputs": [
    {
     "data": {
      "application/vnd.jupyter.widget-view+json": {
       "model_id": "d4758eedb4c64649a9a34004d1b232de",
       "version_major": 2,
       "version_minor": 0
      },
      "image/png": "[encoded data removed]",
      "text/html": [
       "\n",
       "            <div style=\"display: inline-block;\">\n",
       "                <div class=\"jupyter-widgets widget-label\" style=\"text-align: center;\">\n",
       "                    Figure\n",
       "                </div>\n",
       "                <img src='data:image/png;base64,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' width=800.0/>\n",
       "            </div>\n",
       "        "
      ],
      "text/plain": [
       "Canvas(toolbar=Toolbar(toolitems=[('Home', 'Reset original view', 'home', 'home'), ('Back', 'Back to previous …"
      ]
     },
     "metadata": {},
     "output_type": "display_data"
    }
   ],
   "source": [
    "# Uncomment the plotting function to see the visualization, \n",
    "# Comment out the plotting function when submitting your notebook for grading\n",
    "\n",
    "accuracy_plot() "
   ]
  },
  {
   "cell_type": "code",
   "execution_count": null,
   "metadata": {},
   "outputs": [],
   "source": []
  }
 ],
 "metadata": {
  "kernelspec": {
   "display_name": ".venv",
   "language": "python",
   "name": "python3"
  },
  "language_info": {
   "codemirror_mode": {
    "name": "ipython",
    "version": 3
   },
   "file_extension": ".py",
   "mimetype": "text/x-python",
   "name": "python",
   "nbconvert_exporter": "python",
   "pygments_lexer": "ipython3",
   "version": "3.10.11"
  }
 },
 "nbformat": 4,
 "nbformat_minor": 1
}
